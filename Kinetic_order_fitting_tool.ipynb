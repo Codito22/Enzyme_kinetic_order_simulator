{
 "cells": [
  {
   "cell_type": "code",
   "execution_count": null,
   "id": "09437358",
   "metadata": {},
   "outputs": [],
   "source": [
    "#Load important libraries\n",
    "import numpy as np\n",
    "import matplotlib.pyplot as plt\n",
    "from scipy.optimize import curve_fit"
   ]
  },
  {
   "cell_type": "code",
   "execution_count": null,
   "id": "7ff70a55",
   "metadata": {},
   "outputs": [],
   "source": [
    "#DEFINE MODEL and parameters\n",
    "def order1(t, A, k):\n",
    "    return A * (1- np.exp(-k * t))\n",
    "\n",
    "initial_par = [8.8, 0.5]  # initial A and K values\n"
   ]
  },
  {
   "cell_type": "code",
   "execution_count": null,
   "id": "089606e1",
   "metadata": {},
   "outputs": [],
   "source": [
    "#DEFINE 2nd ORDER MODEL\n",
    "def order2(t, A, k):\n",
    "    return A * (1-(1/(1+A*k*t)))"
   ]
  },
  {
   "cell_type": "code",
   "execution_count": null,
   "id": "fbca877f",
   "metadata": {},
   "outputs": [],
   "source": [
    "#1. Function to fit mutants to model\n",
    "def fit_mutants_to_model(mutants, data_dict, model_func, initial_par):\n",
    "    \"\"\"\n",
    "    Fits data for multiple mutants to a given model function and extracts optimized parameters.\n",
    "\n",
    "    Arguments:\n",
    "    mutants -- a list of mutant names\n",
    "    data_dict -- a dictionary containing the data for each mutant\n",
    "    model_func -- the model function to fit the data\n",
    "    initial_par -- initial parameters for the curve_fit function\n",
    "\n",
    "    Returns:\n",
    "    opt_pars -- a dictionary of optimized parameters for each mutant\n",
    "    \"\"\"\n",
    "\n",
    "    opt_pars = {}\n",
    "\n",
    "    for mutant in mutants:\n",
    "        # Fit the data using curve_fit\n",
    "        opt_par, _ = curve_fit(model_func, t, data_dict[mutant], p0=initial_par)\n",
    "        \n",
    "        # Store the optimized parameters in the dictionary\n",
    "        opt_pars[mutant] = opt_par\n",
    "\n",
    "    return opt_pars"
   ]
  },
  {
   "cell_type": "code",
   "execution_count": null,
   "id": "eb8141a3",
   "metadata": {},
   "outputs": [],
   "source": [
    "#2. Predicted values extraction for graphs and error calculation\n",
    "#Predicted values function \n",
    "\n",
    "def get_predicted_values(mutants, time_predicted, opt_pars, model_func):\n",
    "    \"\"\"\n",
    "    Obtains predicted values for multiple mutants using optimized parameters.\n",
    "\n",
    "    Arguments:\n",
    "    mutants -- a list of mutant names\n",
    "    time_predicted -- time points for prediction\n",
    "    opt_pars -- a dictionary of optimized parameters for each mutant\n",
    "    model_func -- the model function to generate predictions\n",
    "\n",
    "    Returns:\n",
    "    predicted_values -- a dictionary of predicted values for each mutant\n",
    "    \"\"\"\n",
    "\n",
    "    predicted_values = {}\n",
    "\n",
    "    for mutant in mutants:\n",
    "        opt_par = opt_pars[mutant]  # Get optimized parameters for the mutant\n",
    "        predicted = model_func(time_predicted, *opt_par)  # Generate predictions using the model function\n",
    "        predicted_values[mutant] = predicted\n",
    "\n",
    "    return predicted_values"
   ]
  },
  {
   "cell_type": "code",
   "execution_count": null,
   "id": "7ea5b51a",
   "metadata": {},
   "outputs": [],
   "source": [
    "#3. Mean Squared error calculation:\n",
    "def calculate_squared_errors(mutants, graph_data, pred_values_error):\n",
    "    \"\"\"\n",
    "    Calculates squared errors between graph data and predicted values/errors for multiple mutants.\n",
    "\n",
    "    Arguments:\n",
    "    mutants -- a list of mutant names\n",
    "    graph_data -- a dictionary of graph data for each mutant\n",
    "    pred_values_error -- a dictionary of predicted values/errors for each mutant\n",
    "\n",
    "    Returns:\n",
    "    squared_error -- a dictionary of squared errors for each mutant\n",
    "    \"\"\"\n",
    "\n",
    "    squared_error = {}\n",
    "\n",
    "    for mutant in mutants:\n",
    "        squared_error[mutant] = np.sum((graph_data[mutant] - pred_values_error[mutant]) ** 2)/3\n",
    "\n",
    "    return squared_error"
   ]
  },
  {
   "cell_type": "code",
   "execution_count": null,
   "id": "e85dedbd",
   "metadata": {},
   "outputs": [],
   "source": [
    "#4. Graph automation:\n",
    "#automatización graficos \n",
    "import matplotlib.pyplot as plt\n",
    "\n",
    "def grafico_r(t, mutante,graph_data, tiempo_predicho, predicciones, colores, title):\n",
    "    funciones = mutante  # Cambiar a mutante directamente si ya es una lista de nombres de funciones\n",
    "\n",
    "    # Set figure size in inches (A4 dimensions: 8.27 x 11.69 inches)\n",
    "    fig_width = 4\n",
    "    fig_height = 5.6\n",
    "    dpi = 300  # Adjust the DPI value as needed for desired resolution\n",
    "\n",
    "    # Create the figure with the specified size and resolution\n",
    "    plt.figure(figsize=(fig_width, fig_height), dpi=dpi)\n",
    "    for i, funcion in enumerate(funciones):\n",
    "        plt.scatter(t, graph_data[funcion], color=colores[i], label=f'{funcion} exp data')\n",
    "        plt.plot(tiempo_predicho, predicciones[i], color=colores[i], label=f'{funcion} fitted model')\n",
    "\n",
    "    plt.xlabel('Time(Min)')\n",
    "    plt.ylabel('Product concentration')\n",
    "    plt.legend(loc='center left', bbox_to_anchor=(1, 0.5))\n",
    "    plt.title(title)\n",
    "    plt.savefig(f'{title}.png', bbox_inches='tight', pad_inches=0)\n",
    "    plt.show()"
   ]
  }
 ],
 "metadata": {
  "kernelspec": {
   "display_name": "Python 3 (ipykernel)",
   "language": "python",
   "name": "python3"
  },
  "language_info": {
   "codemirror_mode": {
    "name": "ipython",
    "version": 3
   },
   "file_extension": ".py",
   "mimetype": "text/x-python",
   "name": "python",
   "nbconvert_exporter": "python",
   "pygments_lexer": "ipython3",
   "version": "3.10.6"
  }
 },
 "nbformat": 4,
 "nbformat_minor": 5
}
